{
 "cells": [
  {
   "cell_type": "code",
   "execution_count": 3,
   "metadata": {},
   "outputs": [],
   "source": [
    "import pandas as pd\n",
    "import numpy as np\n",
    "from pathlib import Path"
   ]
  },
  {
   "cell_type": "code",
   "execution_count": 4,
   "metadata": {},
   "outputs": [],
   "source": [
    "PATH_RAW = Path('../data/raw')"
   ]
  },
  {
   "cell_type": "markdown",
   "metadata": {},
   "source": [
    "# Loading Data"
   ]
  },
  {
   "cell_type": "code",
   "execution_count": 27,
   "metadata": {},
   "outputs": [],
   "source": [
    "day_2_data = pd.read_csv(PATH_RAW / \"day2.txt\", header=None)[0]"
   ]
  },
  {
   "cell_type": "markdown",
   "metadata": {},
   "source": [
    "# Step 1"
   ]
  },
  {
   "cell_type": "markdown",
   "metadata": {},
   "source": [
    "--- Day 2: Password Philosophy ---\n",
    "\n",
    "Your flight departs in a few days from the coastal airport; the easiest way down to the coast from here is via toboggan.\n",
    "\n",
    "The shopkeeper at the North Pole Toboggan Rental Shop is having a bad day. \"Something's wrong with our computers; we can't log in!\" You ask if you can take a look.\n",
    "\n",
    "Their password database seems to be a little corrupted: some of the passwords wouldn't have been allowed by the Official Toboggan Corporate Policy that was in effect when they were chosen.\n",
    "\n",
    "To try to debug the problem, they have created a list (your puzzle input) of passwords (according to the corrupted database) and the corporate policy when that password was set.\n",
    "\n",
    "For example, suppose you have the following list:\n",
    "\n",
    "1-3 a: abcde\n",
    "1-3 b: cdefg\n",
    "2-9 c: ccccccccc\n",
    "Each line gives the password policy and then the password. The password policy indicates the lowest and highest number of times a given letter must appear for the password to be valid. For example, 1-3 a means that the password must contain a at least 1 time and at most 3 times.\n",
    "\n",
    "In the above example, 2 passwords are valid. The middle password, cdefg, is not; it contains no instances of b, but needs at least 1. The first and third passwords are valid: they contain one a or nine c, both within the limits of their respective policies.\n",
    "\n",
    "How many passwords are valid according to their policies?"
   ]
  },
  {
   "cell_type": "markdown",
   "metadata": {},
   "source": [
    "- Finding invalid password"
   ]
  },
  {
   "cell_type": "code",
   "execution_count": 18,
   "metadata": {},
   "outputs": [
    {
     "name": "stdout",
     "output_type": "stream",
     "text": [
      "False\n"
     ]
    }
   ],
   "source": [
    "invalid_pass_test = '1-3 m: wmmmmmttm'\n",
    "\n",
    "password_info = invalid_pass_test\n",
    "\n",
    "password_info_partition = password_info.split(' ')\n",
    "\n",
    "range_info = np.asarray(password_info_partition[0].split('-')).astype(int)\n",
    "letter_in_password = password_info_partition[1].split(':')[0]\n",
    "password = password_info_partition[2]\n",
    "\n",
    "nb_occurence_of_letter_in_password = password.count(letter_in_password)\n",
    "\n",
    "valid_password = False\n",
    "\n",
    "if ((range_info[0]<=nb_occurence_of_letter_in_password) & \n",
    "    (range_info[1]>=nb_occurence_of_letter_in_password)):\n",
    "    valid_password = True\n",
    "    \n",
    "print(valid_password)"
   ]
  },
  {
   "cell_type": "code",
   "execution_count": 19,
   "metadata": {},
   "outputs": [],
   "source": [
    "def password_status(password_info: str) -> bool:\n",
    "    password_info_partition = password_info.split(' ')\n",
    "\n",
    "    range_info = np.asarray(password_info_partition[0].split('-')).astype(int)\n",
    "    letter_in_password = password_info_partition[1].split(':')[0]\n",
    "    password = password_info_partition[2]\n",
    "\n",
    "    nb_occurence_of_letter_in_password = password.count(letter_in_password)\n",
    "\n",
    "    valid_password = False\n",
    "\n",
    "    if ((range_info[0]<=nb_occurence_of_letter_in_password) & \n",
    "        (range_info[1]>=nb_occurence_of_letter_in_password)):\n",
    "        valid_password = True\n",
    "        \n",
    "    return valid_password"
   ]
  },
  {
   "cell_type": "markdown",
   "metadata": {},
   "source": [
    "- Finding all valid password"
   ]
  },
  {
   "cell_type": "code",
   "execution_count": 28,
   "metadata": {
    "scrolled": true
   },
   "outputs": [
    {
     "data": {
      "text/plain": [
       "0       True\n",
       "1      False\n",
       "2       True\n",
       "3       True\n",
       "4      False\n",
       "       ...  \n",
       "995     True\n",
       "996    False\n",
       "997    False\n",
       "998    False\n",
       "999    False\n",
       "Name: 0, Length: 1000, dtype: bool"
      ]
     },
     "execution_count": 28,
     "metadata": {},
     "output_type": "execute_result"
    }
   ],
   "source": [
    "day_2_data.apply(password_status)"
   ]
  },
  {
   "cell_type": "code",
   "execution_count": 31,
   "metadata": {
    "scrolled": true
   },
   "outputs": [
    {
     "data": {
      "text/plain": [
       "416"
      ]
     },
     "execution_count": 31,
     "metadata": {},
     "output_type": "execute_result"
    }
   ],
   "source": [
    "nb_of_valid_password = day_2_data.apply(password_status).sum()\n",
    "nb_of_valid_password"
   ]
  },
  {
   "cell_type": "markdown",
   "metadata": {},
   "source": [
    "# Step 2"
   ]
  },
  {
   "cell_type": "markdown",
   "metadata": {},
   "source": [
    "While it appears you validated the passwords correctly, they don't seem to be what the Official Toboggan Corporate Authentication System is expecting.\n",
    "\n",
    "The shopkeeper suddenly realizes that he just accidentally explained the password policy rules from his old job at the sled rental place down the street! The Official Toboggan Corporate Policy actually works a little differently.\n",
    "\n",
    "Each policy actually describes two positions in the password, where 1 means the first character, 2 means the second character, and so on. (Be careful; Toboggan Corporate Policies have no concept of \"index zero\"!) Exactly one of these positions must contain the given letter. Other occurrences of the letter are irrelevant for the purposes of policy enforcement.\n",
    "\n",
    "Given the same example list from above:\n",
    "\n",
    "1-3 a: abcde is valid: position 1 contains a and position 3 does not.\n",
    "1-3 b: cdefg is invalid: neither position 1 nor position 3 contains b.\n",
    "2-9 c: ccccccccc is invalid: both position 2 and position 9 contain c.\n",
    "How many passwords are valid according to the new interpretation of the policies?"
   ]
  },
  {
   "cell_type": "markdown",
   "metadata": {},
   "source": [
    "- Finding invalid password"
   ]
  },
  {
   "cell_type": "code",
   "execution_count": 35,
   "metadata": {},
   "outputs": [
    {
     "name": "stdout",
     "output_type": "stream",
     "text": [
      "True\n"
     ]
    }
   ],
   "source": [
    "invalid_pass_test = '1-3 m: wmmmmmttm'\n",
    "\n",
    "password_info = invalid_pass_test\n",
    "\n",
    "password_info_partition = password_info.split(' ')\n",
    "\n",
    "position_info = np.asarray(password_info_partition[0].split('-')).astype(int)\n",
    "letter_in_password = password_info_partition[1].split(':')[0]\n",
    "password = password_info_partition[2]\n",
    "\n",
    "first_position_is_letter  = password[position_info[0]-1]==letter_in_password\n",
    "second_position_is_letter = password[position_info[1]-1]==letter_in_password\n",
    "\n",
    "not_both_possition_is_letter = first_position_is_letter & second_position_is_letter\n",
    "\n",
    "valid_password = False\n",
    "\n",
    "if ((first_position_is_letter | second_position_is_letter) & \n",
    "    (~not_both_possition_is_letter)):\n",
    "    valid_password = True\n",
    "    \n",
    "print(valid_password)"
   ]
  },
  {
   "cell_type": "code",
   "execution_count": 36,
   "metadata": {},
   "outputs": [],
   "source": [
    "def password_status_step2(password_info: str) -> bool:\n",
    "    password_info_partition = password_info.split(' ')\n",
    "\n",
    "    position_info = np.asarray(password_info_partition[0].split('-')).astype(int)\n",
    "    letter_in_password = password_info_partition[1].split(':')[0]\n",
    "    password = password_info_partition[2]\n",
    "\n",
    "    first_position_is_letter  = password[position_info[0]-1]==letter_in_password\n",
    "    second_position_is_letter = password[position_info[1]-1]==letter_in_password\n",
    "\n",
    "    not_both_possition_is_letter = first_position_is_letter & second_position_is_letter\n",
    "\n",
    "    valid_password = False\n",
    "\n",
    "    if ((first_position_is_letter | second_position_is_letter) & \n",
    "        (~not_both_possition_is_letter)):\n",
    "        valid_password = True\n",
    "\n",
    "    return valid_password"
   ]
  },
  {
   "cell_type": "markdown",
   "metadata": {},
   "source": [
    "- Finding all valid password"
   ]
  },
  {
   "cell_type": "code",
   "execution_count": 37,
   "metadata": {
    "scrolled": true
   },
   "outputs": [
    {
     "data": {
      "text/plain": [
       "0       True\n",
       "1       True\n",
       "2       True\n",
       "3      False\n",
       "4       True\n",
       "       ...  \n",
       "995     True\n",
       "996     True\n",
       "997    False\n",
       "998     True\n",
       "999    False\n",
       "Name: 0, Length: 1000, dtype: bool"
      ]
     },
     "execution_count": 37,
     "metadata": {},
     "output_type": "execute_result"
    }
   ],
   "source": [
    "day_2_data.apply(password_status_step2)"
   ]
  },
  {
   "cell_type": "code",
   "execution_count": 38,
   "metadata": {
    "scrolled": true
   },
   "outputs": [
    {
     "data": {
      "text/plain": [
       "688"
      ]
     },
     "execution_count": 38,
     "metadata": {},
     "output_type": "execute_result"
    }
   ],
   "source": [
    "nb_of_valid_password = day_2_data.apply(password_status_step2).sum()\n",
    "nb_of_valid_password"
   ]
  },
  {
   "cell_type": "code",
   "execution_count": null,
   "metadata": {},
   "outputs": [],
   "source": []
  }
 ],
 "metadata": {
  "kernelspec": {
   "display_name": "Python 3",
   "language": "python",
   "name": "python3"
  },
  "language_info": {
   "codemirror_mode": {
    "name": "ipython",
    "version": 3
   },
   "file_extension": ".py",
   "mimetype": "text/x-python",
   "name": "python",
   "nbconvert_exporter": "python",
   "pygments_lexer": "ipython3",
   "version": "3.8.6"
  },
  "toc": {
   "base_numbering": 1,
   "nav_menu": {},
   "number_sections": true,
   "sideBar": true,
   "skip_h1_title": false,
   "title_cell": "Table of Contents",
   "title_sidebar": "Contents",
   "toc_cell": false,
   "toc_position": {},
   "toc_section_display": true,
   "toc_window_display": false
  }
 },
 "nbformat": 4,
 "nbformat_minor": 4
}

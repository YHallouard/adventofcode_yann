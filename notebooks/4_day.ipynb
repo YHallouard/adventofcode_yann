{
 "cells": [
  {
   "cell_type": "code",
   "execution_count": 61,
   "metadata": {},
   "outputs": [],
   "source": [
    "import pandas as pd\n",
    "import numpy as np\n",
    "from pathlib import Path\n",
    "from copy import copy\n",
    "from tqdm import tqdm\n",
    "import re"
   ]
  },
  {
   "cell_type": "code",
   "execution_count": 2,
   "metadata": {},
   "outputs": [],
   "source": [
    "PATH_RAW = Path('../data/raw')"
   ]
  },
  {
   "cell_type": "markdown",
   "metadata": {},
   "source": [
    "# Loading Data"
   ]
  },
  {
   "cell_type": "code",
   "execution_count": 48,
   "metadata": {},
   "outputs": [],
   "source": [
    "def proceed_passport(file_path: str) -> [dict]:\n",
    "    # Using readlines() \n",
    "    file_day_4 = open(file_path, 'r') \n",
    "    day_4_lines = file_day_4.readlines() \n",
    "    \n",
    "    result = []\n",
    "    current_passport_dict = {}\n",
    "\n",
    "    for line in day_4_lines:\n",
    "        if line=='\\n':\n",
    "            result.append(current_passport_dict)\n",
    "            current_passport_dict = {}\n",
    "        else:\n",
    "            line = line.replace('\\n', '')\n",
    "            parameters = line.split(' ')\n",
    "            for parameter in parameters:\n",
    "                parameter = parameter.split(':')\n",
    "                current_passport_dict[parameter[0]] = parameter[1]\n",
    "    \n",
    "    result.append(current_passport_dict)\n",
    "                \n",
    "    return result"
   ]
  },
  {
   "cell_type": "code",
   "execution_count": 49,
   "metadata": {},
   "outputs": [],
   "source": [
    "day_4_data = proceed_passport(file_path=PATH_RAW / 'day_4.txt')"
   ]
  },
  {
   "cell_type": "markdown",
   "metadata": {},
   "source": [
    "# Step 1"
   ]
  },
  {
   "cell_type": "markdown",
   "metadata": {},
   "source": [
    "--- Day 4: Passport Processing ---\n",
    "\n",
    "You arrive at the airport only to realize that you grabbed your North Pole Credentials instead of your passport. While these documents are extremely similar, North Pole Credentials aren't issued by a country and therefore aren't actually valid documentation for travel in most of the world.\n",
    "\n",
    "It seems like you're not the only one having problems, though; a very long line has formed for the automatic passport scanners, and the delay could upset your travel itinerary.\n",
    "\n",
    "Due to some questionable network security, you realize you might be able to solve both of these problems at the same time.\n",
    "\n",
    "The automatic passport scanners are slow because they're having trouble detecting which passports have all required fields. The expected fields are as follows:\n",
    "\n",
    "byr (Birth Year)\n",
    "iyr (Issue Year)\n",
    "eyr (Expiration Year)\n",
    "hgt (Height)\n",
    "hcl (Hair Color)\n",
    "ecl (Eye Color)\n",
    "pid (Passport ID)\n",
    "cid (Country ID)\n",
    "Passport data is validated in batch files (your puzzle input). Each passport is represented as a sequence of key:value pairs separated by spaces or newlines. Passports are separated by blank lines.\n",
    "\n",
    "Here is an example batch file containing four passports:\n",
    "\n",
    "ecl:gry pid:860033327 eyr:2020 hcl:#fffffd\n",
    "byr:1937 iyr:2017 cid:147 hgt:183cm\n",
    "\n",
    "iyr:2013 ecl:amb cid:350 eyr:2023 pid:028048884\n",
    "hcl:#cfa07d byr:1929\n",
    "\n",
    "hcl:#ae17e1 iyr:2013\n",
    "eyr:2024\n",
    "ecl:brn pid:760753108 byr:1931\n",
    "hgt:179cm\n",
    "\n",
    "hcl:#cfa07d eyr:2025 pid:166559648\n",
    "iyr:2011 ecl:brn hgt:59in\n",
    "The first passport is valid - all eight fields are present. The second passport is invalid - it is missing hgt (the Height field).\n",
    "\n",
    "The third passport is interesting; the only missing field is cid, so it looks like data from North Pole Credentials, not a passport at all! Surely, nobody would mind if you made the system temporarily ignore missing cid fields. Treat this \"passport\" as valid.\n",
    "\n",
    "The fourth passport is missing two fields, cid and byr. Missing cid is fine, but missing any other field is not, so this passport is invalid.\n",
    "\n",
    "According to the above rules, your improved system would report 2 valid passports.\n",
    "\n",
    "Count the number of valid passports - those that have all required fields. Treat cid as optional. In your batch file, how many passports are valid?"
   ]
  },
  {
   "cell_type": "code",
   "execution_count": 57,
   "metadata": {},
   "outputs": [],
   "source": [
    "def count_invalid_passports(passport_dict_list: [dict], cid=False) -> int:\n",
    "\n",
    "    result = []\n",
    "    passport_required_fields = ['byr', 'iyr', 'eyr', 'hgt', 'hcl', 'ecl', 'pid']\n",
    "\n",
    "    if cid:\n",
    "        passport_required_fields += ['cid']\n",
    "    \n",
    "    for passport in tqdm(passport_dict_list):\n",
    "\n",
    "        valid = True\n",
    "        for required_field in passport_required_fields:\n",
    "            if required_field not in passport.keys():\n",
    "                valid = False\n",
    "\n",
    "\n",
    "        result.append(valid)\n",
    "\n",
    "    nb_of_valid = np.sum(result)\n",
    "    return nb_of_valid"
   ]
  },
  {
   "cell_type": "code",
   "execution_count": 58,
   "metadata": {},
   "outputs": [
    {
     "name": "stderr",
     "output_type": "stream",
     "text": [
      "100%|██████████| 260/260 [00:00<00:00, 513668.88it/s]\n"
     ]
    },
    {
     "data": {
      "text/plain": [
       "204"
      ]
     },
     "execution_count": 58,
     "metadata": {},
     "output_type": "execute_result"
    }
   ],
   "source": [
    "count_invalid_passports(passport_dict_list=day_4_data)"
   ]
  },
  {
   "cell_type": "markdown",
   "metadata": {},
   "source": [
    "# Step 2"
   ]
  },
  {
   "cell_type": "markdown",
   "metadata": {},
   "source": [
    "--- Part Two ---\n",
    "\n",
    "The line is moving more quickly now, but you overhear airport security talking about how passports with invalid data are getting through. Better add some data validation, quick!\n",
    "\n",
    "You can continue to ignore the cid field, but each other field has strict rules about what values are valid for automatic validation:\n",
    "\n",
    "byr (Birth Year) - four digits; at least 1920 and at most 2002.\n",
    "iyr (Issue Year) - four digits; at least 2010 and at most 2020.\n",
    "eyr (Expiration Year) - four digits; at least 2020 and at most 2030.\n",
    "hgt (Height) - a number followed by either cm or in:\n",
    "If cm, the number must be at least 150 and at most 193.\n",
    "If in, the number must be at least 59 and at most 76.\n",
    "hcl (Hair Color) - a # followed by exactly six characters 0-9 or a-f.\n",
    "ecl (Eye Color) - exactly one of: amb blu brn gry grn hzl oth.\n",
    "pid (Passport ID) - a nine-digit number, including leading zeroes.\n",
    "cid (Country ID) - ignored, missing or not.\n",
    "Your job is to count the passports where all required fields are both present and valid according to the above rules. Here are some example values:\n",
    "\n",
    "byr valid:   2002\n",
    "byr invalid: 2003\n",
    "\n",
    "hgt valid:   60in\n",
    "hgt valid:   190cm\n",
    "hgt invalid: 190in\n",
    "hgt invalid: 190\n",
    "\n",
    "hcl valid:   #123abc\n",
    "hcl invalid: #123abz\n",
    "hcl invalid: 123abc\n",
    "\n",
    "ecl valid:   brn\n",
    "ecl invalid: wat\n",
    "\n",
    "pid valid:   000000001\n",
    "pid invalid: 0123456789\n",
    "Here are some invalid passports:\n",
    "\n",
    "eyr:1972 cid:100\n",
    "hcl:#18171d ecl:amb hgt:170 pid:186cm iyr:2018 byr:1926\n",
    "\n",
    "iyr:2019\n",
    "hcl:#602927 eyr:1967 hgt:170cm\n",
    "ecl:grn pid:012533040 byr:1946\n",
    "\n",
    "hcl:dab227 iyr:2012\n",
    "ecl:brn hgt:182cm pid:021572410 eyr:2020 byr:1992 cid:277\n",
    "\n",
    "hgt:59cm ecl:zzz\n",
    "eyr:2038 hcl:74454a iyr:2023\n",
    "pid:3556412378 byr:2007\n",
    "Here are some valid passports:\n",
    "\n",
    "pid:087499704 hgt:74in ecl:grn iyr:2012 eyr:2030 byr:1980\n",
    "hcl:#623a2f\n",
    "\n",
    "eyr:2029 ecl:blu cid:129 byr:1989\n",
    "iyr:2014 pid:896056539 hcl:#a97842 hgt:165cm\n",
    "\n",
    "hcl:#888785\n",
    "hgt:164cm byr:2001 iyr:2015 cid:88\n",
    "pid:545766238 ecl:hzl\n",
    "eyr:2022\n",
    "\n",
    "iyr:2010 hgt:158cm hcl:#b6652a ecl:blu byr:1944 eyr:2021 pid:093154719\n",
    "Count the number of valid passports - those that have all required fields and valid values. Continue to treat cid as optional. In your batch file, how many passports are valid?"
   ]
  },
  {
   "cell_type": "code",
   "execution_count": 178,
   "metadata": {},
   "outputs": [],
   "source": [
    "def byr_rule(value: str, status: bool) -> bool:\n",
    "    \n",
    "    byr = value\n",
    "    try:\n",
    "        if len(byr)==4:\n",
    "            byr = int(value)\n",
    "            if ((byr<1920) | (byr>2002)):\n",
    "                status = False \n",
    "        else:\n",
    "            status = False\n",
    "    except:\n",
    "        status = False\n",
    "    return status\n",
    "\n",
    "def iyr_rule(value: str, status: bool) -> bool:\n",
    "    \n",
    "    iyr = value\n",
    "    try:\n",
    "        if len(iyr)==4:\n",
    "            iyr = int(value)\n",
    "            if ((iyr<2010) | (iyr>2020)):\n",
    "                status = False \n",
    "        else:\n",
    "            status = False\n",
    "    except:\n",
    "        status = False\n",
    "        \n",
    "    return status\n",
    "\n",
    "def eyr_rule(value: str, status: bool) -> bool:\n",
    "    \n",
    "    eyr = value\n",
    "    try:\n",
    "        if len(eyr)==4:\n",
    "            eyr = int(value)\n",
    "            if ((eyr<2020) | (eyr>2030)):\n",
    "                status = False\n",
    "        else:\n",
    "            status = False\n",
    "    except:\n",
    "        status = False\n",
    "        \n",
    "    return status\n",
    "\n",
    "def hgt_rule(value: str, status: bool) -> bool:\n",
    "    \n",
    "    pattern = r\"((^\\d{2}in)|(^\\d{3}cm))\"\n",
    "    \n",
    "    if not re.match(pattern, value):\n",
    "        status = False\n",
    "    else:\n",
    "        digit_pattern = r\"^\\d{2,3}\"\n",
    "        digit = int(re.match(pattern=digit_pattern, string=value).group())\n",
    "        \n",
    "        if (('cm' in value) & ((digit<150) | (digit>193))):\n",
    "            status = False\n",
    "        elif (('in' in value) & ((digit<59) | (digit>76))):\n",
    "            status = False\n",
    "            \n",
    "    return status\n",
    "\n",
    "def hcl_rule(value: str, status: bool) -> bool:\n",
    "    \n",
    "    pattern = r\"(^#([0-9]|[a-f]){6}$)\"\n",
    "    \n",
    "    if not re.match(pattern, value):\n",
    "        status = False\n",
    "    return status\n",
    "\n",
    "def ecl_rule(value: str, status: bool) -> bool:\n",
    "    \n",
    "    if len(value)==3:\n",
    "        if value not in ['amb', 'blu', 'brn', 'gry', 'grn', 'hzl', 'oth']:\n",
    "            status = False\n",
    "    else:\n",
    "        status = False\n",
    "    \n",
    "    return status\n",
    "\n",
    "def pid_rule(value: str, status: bool) -> bool:\n",
    "    \n",
    "    pattern = r\"(^[0-9]{9}$)\"\n",
    "    \n",
    "    if not re.match(pattern, value):\n",
    "        status = False\n",
    "    return status"
   ]
  },
  {
   "cell_type": "markdown",
   "metadata": {},
   "source": [
    "Tests:"
   ]
  },
  {
   "cell_type": "code",
   "execution_count": 200,
   "metadata": {},
   "outputs": [],
   "source": [
    "assert byr_rule(value='20202', status=True)==False\n",
    "assert byr_rule(value='1919', status=True)==False\n",
    "assert byr_rule(value='1920', status=True)==True\n",
    "assert byr_rule(value='2002', status=True)==True\n",
    "assert byr_rule(value='2003', status=True)==False\n",
    "assert byr_rule(value='1950', status=True)==True\n",
    "\n",
    "assert iyr_rule(value='20202', status=True)==False\n",
    "assert iyr_rule(value='2009', status=True)==False\n",
    "assert iyr_rule(value='2010', status=True)==True\n",
    "assert iyr_rule(value='2020', status=True)==True\n",
    "assert iyr_rule(value='2021', status=True)==False\n",
    "assert iyr_rule(value='2015', status=True)==True\n",
    "\n",
    "assert eyr_rule(value='20202', status=True)==False\n",
    "assert eyr_rule(value='2019', status=True)==False\n",
    "assert eyr_rule(value='2020', status=True)==True\n",
    "assert eyr_rule(value='2030', status=True)==True\n",
    "assert eyr_rule(value='2031', status=True)==False\n",
    "assert eyr_rule(value='2025', status=True)==True\n",
    "\n",
    "assert hgt_rule(value='1T', status=True)==False\n",
    "assert hgt_rule(value='aa', status=True)==False\n",
    "assert hgt_rule(value='cm', status=True)==False\n",
    "assert hgt_rule(value='149cm', status=True)==False\n",
    "assert hgt_rule(value='194cm', status=True)==False\n",
    "assert hgt_rule(value='150cm', status=True)==True\n",
    "assert hgt_rule(value='193cm', status=True)==True\n",
    "assert hgt_rule(value='160cm', status=True)==True\n",
    "assert hgt_rule(value='58in', status=True)==False\n",
    "assert hgt_rule(value='77in', status=True)==False\n",
    "assert hgt_rule(value='59in', status=True)==True\n",
    "assert hgt_rule(value='76in', status=True)==True\n",
    "assert hgt_rule(value='70in', status=True)==True\n",
    "\n",
    "assert hcl_rule(value='#123abc', status=True)==True\n",
    "assert hcl_rule(value='#123abz', status=True)==False\n",
    "assert hcl_rule(value='#123abf', status=True)==True\n",
    "assert hcl_rule(value='#123abg', status=True)==False\n",
    "assert hcl_rule(value='123abf', status=True)==False\n",
    "\n",
    "assert ecl_rule(value='amb', status=True)==True\n",
    "assert ecl_rule(value='blu', status=True)==True\n",
    "assert ecl_rule(value='brn', status=True)==True\n",
    "assert ecl_rule(value='gry', status=True)==True\n",
    "assert ecl_rule(value='grn', status=True)==True\n",
    "assert ecl_rule(value='hzl', status=True)==True\n",
    "assert ecl_rule(value='oth', status=True)==True\n",
    "assert ecl_rule(value='a', status=True)==False\n",
    "assert ecl_rule(value='klgv', status=True)==False\n",
    "assert ecl_rule(value='jgh', status=True)==False\n",
    "\n",
    "assert pid_rule(value='000000001', status=True)==True\n",
    "assert pid_rule(value='0123456789', status=True)==False\n",
    "assert pid_rule(value='01234567', status=True)==False"
   ]
  },
  {
   "cell_type": "code",
   "execution_count": 213,
   "metadata": {},
   "outputs": [],
   "source": [
    "def count_invalid_passports(passport_dict_list: [dict], cid=False) -> int:\n",
    "\n",
    "    result = []\n",
    "    passport_required_fields = ['byr', 'iyr', 'eyr', 'hgt', 'hcl', 'ecl', 'pid']\n",
    "\n",
    "    if cid:\n",
    "        passport_required_fields += ['cid']\n",
    "    \n",
    "    for passport in tqdm(passport_dict_list):\n",
    "\n",
    "        valid = True\n",
    "        for required_field in passport_required_fields:\n",
    "            \n",
    "            if required_field not in passport.keys():\n",
    "                valid = False\n",
    "            else:\n",
    "                if required_field=='byr':\n",
    "                    valid = byr_rule(value=passport[required_field], \n",
    "                                     status=valid)\n",
    "                elif required_field=='iyr':\n",
    "                    valid = iyr_rule(value=passport[required_field], \n",
    "                                     status=valid)\n",
    "                elif required_field=='eyr':\n",
    "                    valid = eyr_rule(value=passport[required_field], \n",
    "                                     status=valid)\n",
    "                elif required_field=='hgt':\n",
    "                    valid = hgt_rule(value=passport[required_field], \n",
    "                                     status=valid)\n",
    "                elif required_field=='hcl':\n",
    "                    valid = hcl_rule(value=passport[required_field], \n",
    "                                     status=valid)\n",
    "                elif required_field=='ecl':\n",
    "                    valid = ecl_rule(value=passport[required_field], \n",
    "                                     status=valid)\n",
    "                elif required_field=='pid':\n",
    "                    valid = pid_rule(value=passport[required_field], \n",
    "                                     status=valid)\n",
    "        result.append(valid)\n",
    "\n",
    "    nb_of_valid = np.sum(result)\n",
    "    return nb_of_valid"
   ]
  },
  {
   "cell_type": "code",
   "execution_count": 214,
   "metadata": {},
   "outputs": [
    {
     "name": "stderr",
     "output_type": "stream",
     "text": [
      "100%|██████████| 3/3 [00:00<00:00, 23258.62it/s]\n",
      "100%|██████████| 1/1 [00:00<00:00, 9822.73it/s]\n"
     ]
    },
    {
     "data": {
      "text/plain": [
       "1"
      ]
     },
     "execution_count": 214,
     "metadata": {},
     "output_type": "execute_result"
    }
   ],
   "source": [
    "test_invalid = [{'eyr':'1972', 'cid':'100',\n",
    "         'hcl':'#18171d', 'ecl':'amb', \n",
    "         'hgt':'170', 'pid':'186cm',\n",
    "         'iyr':'2018', 'byr':'1926'}, \n",
    "       {'iyr':'2019', 'hcl':'#602927', \n",
    "        'eyr':'1967', 'hgt':'170cm',\n",
    "        'ecl':'grn', 'pid':'012533040', \n",
    "        'byr':'1946'}, \n",
    "        {'hcl':'dab227', 'iyr':'2012',\n",
    "         'ecl':'brn', 'hgt':'182cm', \n",
    "         'pid':'021572410', 'eyr':'2020', \n",
    "         'byr':'1992', 'cid':'277'}]\n",
    "\n",
    "test_valid = [{'pid':'087499704', 'hgt':'74in', 'ecl':'grn',\n",
    "               'iyr':'2012', 'eyr':'2030', 'byr':'1980', \n",
    "               'hcl':'#623a2f'}]\n",
    "\n",
    "count_invalid_passports(passport_dict_list=test_invalid)\n",
    "count_invalid_passports(passport_dict_list=test_valid)"
   ]
  },
  {
   "cell_type": "code",
   "execution_count": 215,
   "metadata": {},
   "outputs": [
    {
     "name": "stderr",
     "output_type": "stream",
     "text": [
      "100%|██████████| 260/260 [00:00<00:00, 78167.80it/s]\n"
     ]
    },
    {
     "data": {
      "text/plain": [
       "179"
      ]
     },
     "execution_count": 215,
     "metadata": {},
     "output_type": "execute_result"
    }
   ],
   "source": [
    "count_invalid_passports(passport_dict_list=day_4_data)"
   ]
  },
  {
   "cell_type": "code",
   "execution_count": null,
   "metadata": {},
   "outputs": [],
   "source": []
  }
 ],
 "metadata": {
  "kernelspec": {
   "display_name": "Python 3",
   "language": "python",
   "name": "python3"
  },
  "language_info": {
   "codemirror_mode": {
    "name": "ipython",
    "version": 3
   },
   "file_extension": ".py",
   "mimetype": "text/x-python",
   "name": "python",
   "nbconvert_exporter": "python",
   "pygments_lexer": "ipython3",
   "version": "3.8.6"
  },
  "toc": {
   "base_numbering": 1,
   "nav_menu": {},
   "number_sections": true,
   "sideBar": true,
   "skip_h1_title": false,
   "title_cell": "Table of Contents",
   "title_sidebar": "Contents",
   "toc_cell": false,
   "toc_position": {},
   "toc_section_display": true,
   "toc_window_display": false
  }
 },
 "nbformat": 4,
 "nbformat_minor": 4
}
